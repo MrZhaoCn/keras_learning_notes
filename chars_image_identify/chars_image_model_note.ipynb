{
 "cells": [
  {
   "cell_type": "code",
   "execution_count": null,
   "metadata": {
    "collapsed": true
   },
   "outputs": [],
   "source": [
    "#学习点\n",
    "#1.对于字母识别问题，多通道并无多大意义，因此可处理为单通道\n",
    "#2.对于图像大小的resize也需要测试，包括在做图像增强的各参数\n",
    "#3.优化器可以使用多个分步优化，先采用快的优化器让模型快速收敛，在采用精度优化器拙见深度优化\n",
    "#精度85%\n",
    "\n",
    "% matplotlib inline"
   ]
  }
 ],
 "metadata": {
  "kernelspec": {
   "display_name": "Python 2",
   "language": "python",
   "name": "python2"
  },
  "language_info": {
   "codemirror_mode": {
    "name": "ipython",
    "version": 2
   },
   "file_extension": ".py",
   "mimetype": "text/x-python",
   "name": "python",
   "nbconvert_exporter": "python",
   "pygments_lexer": "ipython2",
   "version": "2.7.6"
  }
 },
 "nbformat": 4,
 "nbformat_minor": 0
}
